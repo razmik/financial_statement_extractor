{
  "nbformat": 4,
  "nbformat_minor": 0,
  "metadata": {
    "colab": {
      "provenance": [],
      "authorship_tag": "ABX9TyNLLqVOEdu3j30T7jJ7D34R",
      "include_colab_link": true
    },
    "kernelspec": {
      "name": "python3",
      "display_name": "Python 3"
    },
    "language_info": {
      "name": "python"
    }
  },
  "cells": [
    {
      "cell_type": "markdown",
      "metadata": {
        "id": "view-in-github",
        "colab_type": "text"
      },
      "source": [
        "<a href=\"https://colab.research.google.com/github/razmik/financial_statement_extractor/blob/main/Coles_Statement_Reader.ipynb\" target=\"_parent\"><img src=\"https://colab.research.google.com/assets/colab-badge.svg\" alt=\"Open In Colab\"/></a>"
      ]
    },
    {
      "cell_type": "code",
      "execution_count": null,
      "metadata": {
        "colab": {
          "base_uri": "https://localhost:8080/"
        },
        "id": "b-y66k7f7dn9",
        "outputId": "7a007147-a6ed-4ff8-9be1-39df7a88f64a"
      },
      "outputs": [
        {
          "output_type": "stream",
          "name": "stdout",
          "text": [
            "Requirement already satisfied: PyMuPDF in /usr/local/lib/python3.10/dist-packages (1.24.5)\n",
            "Requirement already satisfied: pandas in /usr/local/lib/python3.10/dist-packages (2.0.3)\n",
            "Collecting tabula-py\n",
            "  Downloading tabula_py-2.9.3-py3-none-any.whl (12.0 MB)\n",
            "\u001b[2K     \u001b[90m━━━━━━━━━━━━━━━━━━━━━━━━━━━━━━━━━━━━━━━━\u001b[0m \u001b[32m12.0/12.0 MB\u001b[0m \u001b[31m24.8 MB/s\u001b[0m eta \u001b[36m0:00:00\u001b[0m\n",
            "\u001b[?25hRequirement already satisfied: PyMuPDFb==1.24.3 in /usr/local/lib/python3.10/dist-packages (from PyMuPDF) (1.24.3)\n",
            "Requirement already satisfied: python-dateutil>=2.8.2 in /usr/local/lib/python3.10/dist-packages (from pandas) (2.8.2)\n",
            "Requirement already satisfied: pytz>=2020.1 in /usr/local/lib/python3.10/dist-packages (from pandas) (2023.4)\n",
            "Requirement already satisfied: tzdata>=2022.1 in /usr/local/lib/python3.10/dist-packages (from pandas) (2024.1)\n",
            "Requirement already satisfied: numpy>=1.21.0 in /usr/local/lib/python3.10/dist-packages (from pandas) (1.25.2)\n",
            "Requirement already satisfied: distro in /usr/lib/python3/dist-packages (from tabula-py) (1.7.0)\n",
            "Requirement already satisfied: six>=1.5 in /usr/local/lib/python3.10/dist-packages (from python-dateutil>=2.8.2->pandas) (1.16.0)\n",
            "Installing collected packages: tabula-py\n",
            "Successfully installed tabula-py-2.9.3\n"
          ]
        }
      ],
      "source": [
        "!pip install PyMuPDF pandas"
      ]
    },
    {
      "cell_type": "markdown",
      "source": [
        "### Upload and unzip the ZIP file\n",
        "\n",
        "Compress all the statement files into a zip file and upload to the Colab Files Environment.  \n",
        "Once uploaded, run the below command."
      ],
      "metadata": {
        "id": "hOfQQn-DGOCr"
      }
    },
    {
      "cell_type": "code",
      "source": [
        "# Assuming the uploaded file is 'example.zip'\n",
        "zip_file_name = 'Archive.zip'\n",
        "\n",
        "# Create a directory to unzip the file into\n",
        "output_dir = 'unzipped_folder'\n",
        "!mkdir -p {output_dir}\n",
        "\n",
        "# Unzip the file into the specified directory\n",
        "!unzip -q {zip_file_name} -d {output_dir}\n",
        "\n",
        "# List the contents of the unzipped directory to verify\n",
        "!ls {output_dir}"
      ],
      "metadata": {
        "id": "PO0Bx390D0OV"
      },
      "execution_count": null,
      "outputs": []
    },
    {
      "cell_type": "code",
      "source": [
        "import os\n",
        "from tqdm import tqdm\n",
        "import fitz  # PyMuPDF\n",
        "import pandas as pd\n",
        "import re\n",
        "import calendar\n",
        "import warnings\n",
        "warnings.filterwarnings('ignore')\n",
        "\n",
        "def extract_transactions_from_pdf(pdf_path):\n",
        "    # Open the document\n",
        "    document = fitz.open(pdf_path)\n",
        "\n",
        "    # Initialize lists to store transactions\n",
        "    transactions = []\n",
        "\n",
        "    # Iterate through the pages starting from page 2\n",
        "    for page_num in range(1, len(document)):\n",
        "        page = document.load_page(page_num)\n",
        "        text = page.get_text(\"text\")\n",
        "\n",
        "        # Regular expression pattern to match the transaction entry\n",
        "        pattern = re.compile(r'(\\w{3} \\d{2}\\n.+?\\n-?\\d+\\.\\d{2}\\n\\d{14,})\\n')\n",
        "\n",
        "        # Find all matches\n",
        "        matches = pattern.findall(text)\n",
        "\n",
        "        # Convert each match into an array of strings\n",
        "        transaction_lines = [match.split('\\n') for match in matches]\n",
        "\n",
        "        # Append to transactions list\n",
        "        transactions.extend(transaction_lines)\n",
        "\n",
        "    # Create a DataFrame\n",
        "    df = pd.DataFrame(transactions, columns=['Date', 'Description', 'Amount', 'Reference Number'])\n",
        "\n",
        "    return df\n",
        "\n",
        "def save_transactions_to_csv(df, output_csv_path):\n",
        "    df.to_csv(output_csv_path, index=False)\n",
        "\n",
        "if __name__ == \"__main__\":\n",
        "\n",
        "    output_csv_path = 'transactions.csv'  # Path to save the CSV file\n",
        "\n",
        "    # List files in the directory\n",
        "    file_list = os.listdir(output_dir)\n",
        "\n",
        "    transactions_df_list = []\n",
        "\n",
        "    # Print each filename\n",
        "    for filename in tqdm(file_list):\n",
        "\n",
        "      if not filename.lower().endswith('.pdf'):\n",
        "        continue\n",
        "\n",
        "      pdf_path = f\"{output_dir}/{filename}\"\n",
        "\n",
        "      # Extract transactions and save to CSV\n",
        "      transactions_df = extract_transactions_from_pdf(pdf_path)\n",
        "      # Append year_month\n",
        "      transactions_df['Statement_Period'] = filename.split('.pdf')[0].split('_')[-1]\n",
        "      transactions_df['statement_year'] = transactions_df['Statement_Period'].str[-4:]\n",
        "      transactions_df['statement_month'] = transactions_df['Statement_Period'].str[1:3]\n",
        "      transactions_df['statement_year_month'] = transactions_df['statement_year'] + transactions_df['statement_month']\n",
        "      transactions_df['statement_month_name'] = transactions_df['statement_month'].apply(lambda x: calendar.month_name[int(x)])\n",
        "\n",
        "      transactions_df_list.append(transactions_df)\n",
        "\n",
        "    # Save the output df\n",
        "    combined_df = pd.concat(transactions_df_list, ignore_index=True)\n",
        "    save_transactions_to_csv(combined_df, output_csv_path)\n",
        "    print(f\"Transactions have been successfully saved to {output_csv_path}\")\n"
      ],
      "metadata": {
        "colab": {
          "base_uri": "https://localhost:8080/"
        },
        "id": "ARIGd3FJ-9SS",
        "outputId": "b9387efd-93a6-48d6-acd4-d8db5cb8ad7d"
      },
      "execution_count": null,
      "outputs": [
        {
          "output_type": "stream",
          "name": "stderr",
          "text": [
            "100%|██████████| 27/27 [00:00<00:00, 59.84it/s]"
          ]
        },
        {
          "output_type": "stream",
          "name": "stdout",
          "text": [
            "Transactions have been successfully saved to transactions.csv\n"
          ]
        },
        {
          "output_type": "stream",
          "name": "stderr",
          "text": [
            "\n"
          ]
        }
      ]
    },
    {
      "cell_type": "code",
      "source": [],
      "metadata": {
        "id": "mqkU8pwEBD4g"
      },
      "execution_count": null,
      "outputs": []
    },
    {
      "cell_type": "code",
      "source": [],
      "metadata": {
        "id": "uR-pJFHpBD1n"
      },
      "execution_count": null,
      "outputs": []
    }
  ]
}